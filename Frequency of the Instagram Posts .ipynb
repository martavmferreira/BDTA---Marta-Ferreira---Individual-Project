{
 "cells": [
  {
   "cell_type": "code",
   "execution_count": 2,
   "id": "186bd570",
   "metadata": {},
   "outputs": [
    {
     "name": "stdout",
     "output_type": "stream",
     "text": [
      "Fetching posts for partido_socialista\n",
      "Fetching posts for partidosocialdemocrata\n",
      "Fetching posts for partidochega\n",
      "Fetching posts for liberalpt\n",
      "Fetching posts for blocodeesquerdaoficial\n",
      "Fetching posts for pcp.pt\n",
      "Fetching posts for partidolivre\n",
      "Fetching posts for partido_pan\n",
      "Data saved to frequency_of_the_instagram_posts.csv\n"
     ]
    }
   ],
   "source": [
    "# Using InstaLoader to retrieve the number of posts made by each political party from the 6th of januray to the 9th of March\n",
    "# creating a csv file with the columns 'Political Party', 'Username' and 'Post Date'\n",
    "\n",
    "import instaloader\n",
    "from datetime import datetime, timedelta\n",
    "import csv\n",
    "\n",
    "L = instaloader.Instaloader()\n",
    "\n",
    "# The usernames of the political parties on Instagram\n",
    "party_usernames = [\"partido_socialista\", \"partidosocialdemocrata\", \"partidochega\", \"liberalpt\", \"blocodeesquerdaoficial\", \"pcp.pt\", \"partidolivre\", \"partido_pan\"]\n",
    "\n",
    "# Define the start and end date of the time period\n",
    "start_date = datetime(2024, 1, 6)\n",
    "end_date = datetime(2024, 3, 9) \n",
    "\n",
    "# Save it into a CSV file\n",
    "with open('frequency_of_the_instagram_posts.csv', 'w', newline='', encoding='utf-8') as csvfile:\n",
    "    fieldnames = ['Political Party', 'Username', 'Post Date']\n",
    "    writer = csv.DictWriter(csvfile, fieldnames=fieldnames)\n",
    "    \n",
    "    writer.writeheader()\n",
    "    \n",
    "    # Iterate through each party and retrived their posts made in the time period\n",
    "    for party in party_usernames:\n",
    "        print(f\"Fetching posts for {party}\")\n",
    "        try:\n",
    "            profile = instaloader.Profile.from_username(L.context, party)\n",
    "\n",
    "            # Download those posts\n",
    "            posts = profile.get_posts()\n",
    "            for post in posts:\n",
    "                if start_date <= post.date_utc <= end_date:\n",
    "                    writer.writerow({'Political Party': party, 'Username': profile.username, 'Post Date': post.date_utc.strftime(\"%Y-%m-%d %H:%M:%S\")})\n",
    "                elif post.date_utc < start_date:\n",
    "                    break  # Stop fetching posts if the post date is before the start date\n",
    "        except instaloader.exceptions.InstaloaderException as e:\n",
    "            print(f\"Error fetching posts for {party}: {e}\")  # this is to see if there were any errors getting the data \n",
    "        except Exception as e:                                        # for some party\n",
    "            print(f\"An unexpected error occurred for {party}: {e}\")\n",
    "\n",
    "print(\"Data saved to frequency_of_the_instagram_posts.csv\")"
   ]
  },
  {
   "cell_type": "code",
   "execution_count": 5,
   "id": "7dd884a0",
   "metadata": {},
   "outputs": [],
   "source": [
    "# Since the names on the 'Political Party' column were the Instagram usernames, this is to replace that with the\n",
    "# parties names\n",
    "\n",
    "import pandas as pd\n",
    "\n",
    "df = pd.read_csv('frequency_of_the_instagram_posts.csv')\n",
    "\n",
    "# Define the names for each party\n",
    "party_mapping = {\n",
    "    'partido_socialista': 'PS',\n",
    "    'partidosocialdemocrata': 'PPD/PSD.CDS-PP.PPM',\n",
    "    'partidochega': 'CH',\n",
    "    'liberalpt': 'IL',\n",
    "    'blocodeesquerdaoficial': 'B.E.',\n",
    "    'pcp.pt': 'PCP',\n",
    "    'partidolivre': 'L',\n",
    "    'partido_pan': 'PAN'\n",
    "}\n",
    "\n",
    "# Replace old party names with new ones\n",
    "df['Political Party'] = df['Political Party'].replace(party_mapping)\n",
    "\n",
    "# Update the file\n",
    "df.to_csv('frequency_of_the_instagram_posts.csv', index=False)"
   ]
  }
 ],
 "metadata": {
  "kernelspec": {
   "display_name": "Python 3 (ipykernel)",
   "language": "python",
   "name": "python3"
  },
  "language_info": {
   "codemirror_mode": {
    "name": "ipython",
    "version": 3
   },
   "file_extension": ".py",
   "mimetype": "text/x-python",
   "name": "python",
   "nbconvert_exporter": "python",
   "pygments_lexer": "ipython3",
   "version": "3.11.5"
  }
 },
 "nbformat": 4,
 "nbformat_minor": 5
}
