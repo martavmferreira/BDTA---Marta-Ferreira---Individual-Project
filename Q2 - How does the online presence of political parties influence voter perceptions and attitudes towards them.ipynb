{
 "cells": [
  {
   "cell_type": "code",
   "execution_count": 2,
   "id": "d0af930e",
   "metadata": {
    "scrolled": true
   },
   "outputs": [
    {
     "data": {
      "text/html": [
       "<div>\n",
       "<style scoped>\n",
       "    .dataframe tbody tr th:only-of-type {\n",
       "        vertical-align: middle;\n",
       "    }\n",
       "\n",
       "    .dataframe tbody tr th {\n",
       "        vertical-align: top;\n",
       "    }\n",
       "\n",
       "    .dataframe thead th {\n",
       "        text-align: right;\n",
       "    }\n",
       "</style>\n",
       "<table border=\"1\" class=\"dataframe\">\n",
       "  <thead>\n",
       "    <tr style=\"text-align: right;\">\n",
       "      <th></th>\n",
       "      <th>Political Party</th>\n",
       "      <th>Username</th>\n",
       "      <th>Post Date</th>\n",
       "    </tr>\n",
       "  </thead>\n",
       "  <tbody>\n",
       "    <tr>\n",
       "      <th>0</th>\n",
       "      <td>PS</td>\n",
       "      <td>partido_socialista</td>\n",
       "      <td>2024-03-08 23:59:01</td>\n",
       "    </tr>\n",
       "    <tr>\n",
       "      <th>1</th>\n",
       "      <td>PS</td>\n",
       "      <td>partido_socialista</td>\n",
       "      <td>2024-03-08 23:36:30</td>\n",
       "    </tr>\n",
       "    <tr>\n",
       "      <th>2</th>\n",
       "      <td>PS</td>\n",
       "      <td>partido_socialista</td>\n",
       "      <td>2024-03-08 23:01:58</td>\n",
       "    </tr>\n",
       "    <tr>\n",
       "      <th>3</th>\n",
       "      <td>PS</td>\n",
       "      <td>partido_socialista</td>\n",
       "      <td>2024-03-08 22:36:24</td>\n",
       "    </tr>\n",
       "    <tr>\n",
       "      <th>4</th>\n",
       "      <td>PS</td>\n",
       "      <td>partido_socialista</td>\n",
       "      <td>2024-03-08 22:01:47</td>\n",
       "    </tr>\n",
       "  </tbody>\n",
       "</table>\n",
       "</div>"
      ],
      "text/plain": [
       "  Political Party            Username            Post Date\n",
       "0              PS  partido_socialista  2024-03-08 23:59:01\n",
       "1              PS  partido_socialista  2024-03-08 23:36:30\n",
       "2              PS  partido_socialista  2024-03-08 23:01:58\n",
       "3              PS  partido_socialista  2024-03-08 22:36:24\n",
       "4              PS  partido_socialista  2024-03-08 22:01:47"
      ]
     },
     "execution_count": 2,
     "metadata": {},
     "output_type": "execute_result"
    }
   ],
   "source": [
    "import pandas as pd\n",
    "frequency_df = pd.read_csv('frequency_of_the_instagram_posts.csv')\n",
    "frequency_df.head()"
   ]
  },
  {
   "cell_type": "code",
   "execution_count": 3,
   "id": "7629ffa3",
   "metadata": {},
   "outputs": [
    {
     "data": {
      "text/html": [
       "<div>\n",
       "<style scoped>\n",
       "    .dataframe tbody tr th:only-of-type {\n",
       "        vertical-align: middle;\n",
       "    }\n",
       "\n",
       "    .dataframe tbody tr th {\n",
       "        vertical-align: top;\n",
       "    }\n",
       "\n",
       "    .dataframe thead th {\n",
       "        text-align: right;\n",
       "    }\n",
       "</style>\n",
       "<table border=\"1\" class=\"dataframe\">\n",
       "  <thead>\n",
       "    <tr style=\"text-align: right;\">\n",
       "      <th></th>\n",
       "      <th>Political Party</th>\n",
       "      <th>Total Likes</th>\n",
       "    </tr>\n",
       "  </thead>\n",
       "  <tbody>\n",
       "    <tr>\n",
       "      <th>0</th>\n",
       "      <td>PS</td>\n",
       "      <td>291936</td>\n",
       "    </tr>\n",
       "    <tr>\n",
       "      <th>1</th>\n",
       "      <td>PPD/PSD.CDS-PP.PPM</td>\n",
       "      <td>472780</td>\n",
       "    </tr>\n",
       "    <tr>\n",
       "      <th>2</th>\n",
       "      <td>CH</td>\n",
       "      <td>2519776</td>\n",
       "    </tr>\n",
       "    <tr>\n",
       "      <th>3</th>\n",
       "      <td>IL</td>\n",
       "      <td>597442</td>\n",
       "    </tr>\n",
       "    <tr>\n",
       "      <th>4</th>\n",
       "      <td>B.E.</td>\n",
       "      <td>486323</td>\n",
       "    </tr>\n",
       "  </tbody>\n",
       "</table>\n",
       "</div>"
      ],
      "text/plain": [
       "      Political Party  Total Likes\n",
       "0                  PS       291936\n",
       "1  PPD/PSD.CDS-PP.PPM       472780\n",
       "2                  CH      2519776\n",
       "3                  IL       597442\n",
       "4                B.E.       486323"
      ]
     },
     "execution_count": 3,
     "metadata": {},
     "output_type": "execute_result"
    }
   ],
   "source": [
    "import pandas as pd\n",
    "likes_df = pd.read_csv('total_likes_all_parties.csv')\n",
    "likes_df.head()"
   ]
  },
  {
   "cell_type": "code",
   "execution_count": 4,
   "id": "44b12517",
   "metadata": {},
   "outputs": [
    {
     "data": {
      "text/plain": [
       "Political Party\n",
       "B.E.                   7.044782\n",
       "CH                     4.661048\n",
       "IL                     7.989728\n",
       "L                      4.467317\n",
       "PAN                   12.833861\n",
       "PCP                    3.568974\n",
       "PPD/PSD.CDS-PP.PPM     5.636428\n",
       "PS                     5.837257\n",
       "Name: Frequency of posts (weekly), dtype: float64"
      ]
     },
     "execution_count": 4,
     "metadata": {},
     "output_type": "execute_result"
    }
   ],
   "source": [
    "# To see the weekly frequency of posts for each party\n",
    "import pandas as pd\n",
    "\n",
    "# Convert 'Post Date' column to datetime format\n",
    "frequency_df['Post Date'] = pd.to_datetime(frequency_df['Post Date'])\n",
    "\n",
    "# Sort the dataframe by 'Post Date'\n",
    "frequency_df.sort_values(by='Post Date', inplace=True)\n",
    "\n",
    "# Calculate the time difference between consecutive posts\n",
    "frequency_df['Time Difference'] = frequency_df.groupby('Political Party')['Post Date'].diff()\n",
    "\n",
    "# Drop the first row for each party (since there's no time difference)\n",
    "frequency_df.dropna(subset=['Time Difference'], inplace=True)\n",
    "\n",
    "# Convert time differences to hours for easier analysis\n",
    "frequency_df['Frequency of posts (weekly)'] = frequency_df['Time Difference'] / pd.Timedelta(hours=1)\n",
    "\n",
    "avg_frequency_posts_df=frequency_df.groupby('Political Party')['Frequency of posts (weekly)'].mean()\n",
    "\n",
    "avg_frequency_posts_df"
   ]
  },
  {
   "cell_type": "code",
   "execution_count": 5,
   "id": "7ab389c4",
   "metadata": {},
   "outputs": [
    {
     "name": "stdout",
     "output_type": "stream",
     "text": [
      "Correlation between Total Likes and Frequency of posts (weekly): -0.04514192867171025\n"
     ]
    }
   ],
   "source": [
    "# Merge the dataframes on 'Political Party'\n",
    "merged_df = pd.merge(likes_df, frequency_df, on='Political Party', how='inner')\n",
    "\n",
    "# Calculate the correlation\n",
    "correlation = merged_df['Total Likes'].corr(merged_df['Frequency of posts (weekly)'])\n",
    "\n",
    "print(\"Correlation between Total Likes and Frequency of posts (weekly):\", correlation)"
   ]
  },
  {
   "cell_type": "code",
   "execution_count": 8,
   "id": "2247f8d1",
   "metadata": {},
   "outputs": [
    {
     "data": {
      "image/png": "[encoded data removed]",
      "text/plain": [
       "<Figure size 800x600 with 1 Axes>"
      ]
     },
     "metadata": {},
     "output_type": "display_data"
    }
   ],
   "source": [
    "# Create a scatter plot\n",
    "\n",
    "import matplotlib.pyplot as plt\n",
    "import seaborn as sns\n",
    "\n",
    "pastel_color = sns.color_palette('pastel')[3]\n",
    "\n",
    "plt.figure(figsize=(8, 6))\n",
    "plt.scatter(merged_df['Total Likes'], merged_df['Frequency of posts (weekly)'], color=pastel_color)\n",
    "plt.title('Correlation between Likes and Weekly Frequency of posts')\n",
    "plt.xlabel('Likes')\n",
    "plt.ylabel('Weekly Frequency of posts')\n",
    "plt.grid(True)\n",
    "plt.show()"
   ]
  },
  {
   "cell_type": "code",
   "execution_count": 10,
   "id": "54f2b7e8",
   "metadata": {},
   "outputs": [
    {
     "data": {
      "text/html": [
       "<div>\n",
       "<style scoped>\n",
       "    .dataframe tbody tr th:only-of-type {\n",
       "        vertical-align: middle;\n",
       "    }\n",
       "\n",
       "    .dataframe tbody tr th {\n",
       "        vertical-align: top;\n",
       "    }\n",
       "\n",
       "    .dataframe thead th {\n",
       "        text-align: right;\n",
       "    }\n",
       "</style>\n",
       "<table border=\"1\" class=\"dataframe\">\n",
       "  <thead>\n",
       "    <tr style=\"text-align: right;\">\n",
       "      <th></th>\n",
       "      <th>Username</th>\n",
       "      <th>Followers</th>\n",
       "      <th>Political Party</th>\n",
       "    </tr>\n",
       "  </thead>\n",
       "  <tbody>\n",
       "    <tr>\n",
       "      <th>0</th>\n",
       "      <td>partido_socialista</td>\n",
       "      <td>37306</td>\n",
       "      <td>PS</td>\n",
       "    </tr>\n",
       "    <tr>\n",
       "      <th>1</th>\n",
       "      <td>partidosocialdemocrata</td>\n",
       "      <td>47632</td>\n",
       "      <td>PPD/PSD.CDS-PP.PPM</td>\n",
       "    </tr>\n",
       "    <tr>\n",
       "      <th>2</th>\n",
       "      <td>partidochega</td>\n",
       "      <td>185810</td>\n",
       "      <td>CH</td>\n",
       "    </tr>\n",
       "    <tr>\n",
       "      <th>3</th>\n",
       "      <td>liberalpt</td>\n",
       "      <td>105824</td>\n",
       "      <td>IL</td>\n",
       "    </tr>\n",
       "    <tr>\n",
       "      <th>4</th>\n",
       "      <td>blocodeesquerdaoficial</td>\n",
       "      <td>65679</td>\n",
       "      <td>B.E.</td>\n",
       "    </tr>\n",
       "  </tbody>\n",
       "</table>\n",
       "</div>"
      ],
      "text/plain": [
       "                 Username  Followers     Political Party\n",
       "0      partido_socialista      37306                  PS\n",
       "1  partidosocialdemocrata      47632  PPD/PSD.CDS-PP.PPM\n",
       "2            partidochega     185810                  CH\n",
       "3               liberalpt     105824                  IL\n",
       "4  blocodeesquerdaoficial      65679                B.E."
      ]
     },
     "execution_count": 10,
     "metadata": {},
     "output_type": "execute_result"
    }
   ],
   "source": [
    "import pandas as pd\n",
    "followers_df = pd.read_csv('parties_followers_count.csv')\n",
    "followers_df.head()"
   ]
  },
  {
   "cell_type": "code",
   "execution_count": 11,
   "id": "c7be875d",
   "metadata": {},
   "outputs": [
    {
     "data": {
      "text/html": [
       "<div>\n",
       "<style scoped>\n",
       "    .dataframe tbody tr th:only-of-type {\n",
       "        vertical-align: middle;\n",
       "    }\n",
       "\n",
       "    .dataframe tbody tr th {\n",
       "        vertical-align: top;\n",
       "    }\n",
       "\n",
       "    .dataframe thead th {\n",
       "        text-align: right;\n",
       "    }\n",
       "</style>\n",
       "<table border=\"1\" class=\"dataframe\">\n",
       "  <thead>\n",
       "    <tr style=\"text-align: right;\">\n",
       "      <th></th>\n",
       "      <th>Followers</th>\n",
       "      <th>Political Party</th>\n",
       "    </tr>\n",
       "  </thead>\n",
       "  <tbody>\n",
       "    <tr>\n",
       "      <th>0</th>\n",
       "      <td>37306</td>\n",
       "      <td>PS</td>\n",
       "    </tr>\n",
       "    <tr>\n",
       "      <th>1</th>\n",
       "      <td>47632</td>\n",
       "      <td>PPD/PSD.CDS-PP.PPM</td>\n",
       "    </tr>\n",
       "    <tr>\n",
       "      <th>2</th>\n",
       "      <td>185810</td>\n",
       "      <td>CH</td>\n",
       "    </tr>\n",
       "    <tr>\n",
       "      <th>3</th>\n",
       "      <td>105824</td>\n",
       "      <td>IL</td>\n",
       "    </tr>\n",
       "    <tr>\n",
       "      <th>4</th>\n",
       "      <td>65679</td>\n",
       "      <td>B.E.</td>\n",
       "    </tr>\n",
       "    <tr>\n",
       "      <th>5</th>\n",
       "      <td>25854</td>\n",
       "      <td>PCP-PEV</td>\n",
       "    </tr>\n",
       "    <tr>\n",
       "      <th>6</th>\n",
       "      <td>39729</td>\n",
       "      <td>L</td>\n",
       "    </tr>\n",
       "    <tr>\n",
       "      <th>7</th>\n",
       "      <td>39656</td>\n",
       "      <td>PAN</td>\n",
       "    </tr>\n",
       "  </tbody>\n",
       "</table>\n",
       "</div>"
      ],
      "text/plain": [
       "   Followers     Political Party\n",
       "0      37306                  PS\n",
       "1      47632  PPD/PSD.CDS-PP.PPM\n",
       "2     185810                  CH\n",
       "3     105824                  IL\n",
       "4      65679                B.E.\n",
       "5      25854             PCP-PEV\n",
       "6      39729                   L\n",
       "7      39656                 PAN"
      ]
     },
     "execution_count": 11,
     "metadata": {},
     "output_type": "execute_result"
    }
   ],
   "source": [
    "# Drop the column 'username'\n",
    "followers_df.drop(columns=['Username'], inplace=True)\n",
    "\n",
    "followers_df"
   ]
  },
  {
   "cell_type": "code",
   "execution_count": 12,
   "id": "242c247b",
   "metadata": {},
   "outputs": [
    {
     "name": "stdout",
     "output_type": "stream",
     "text": [
      "Correlation between Frequency of posts (weekly) and Followers: -0.052806215948750554\n"
     ]
    }
   ],
   "source": [
    "# Merge dataframes\n",
    "merged_df = pd.merge(frequency_df, followers_df, on='Political Party')\n",
    "\n",
    "# Calculate the correlation\n",
    "correlation = merged_df['Frequency of posts (weekly)'].corr(merged_df['Followers'])\n",
    "print(\"Correlation between Frequency of posts (weekly) and Followers:\", correlation)"
   ]
  },
  {
   "cell_type": "code",
   "execution_count": 15,
   "id": "62168caf",
   "metadata": {},
   "outputs": [
    {
     "data": {
      "image/png": "[encoded data removed]",
      "text/plain": [
       "<Figure size 1000x600 with 1 Axes>"
      ]
     },
     "metadata": {},
     "output_type": "display_data"
    }
   ],
   "source": [
    "# Create scatter plot\n",
    "\n",
    "import matplotlib.pyplot as plt\n",
    "import seaborn as sns\n",
    "\n",
    "pastel_color = sns.color_palette('pastel')[3]\n",
    "\n",
    "plt.figure(figsize=(10, 6))\n",
    "plt.scatter(merged_df['Frequency of posts (weekly)'], merged_df['Followers'], color=pastel_color)\n",
    "plt.title('Correlation between Weekly Frequency of Posts and Followers')\n",
    "plt.xlabel('Weekly Frequency of posts')\n",
    "plt.ylabel('Followers')\n",
    "plt.grid(True)\n",
    "plt.show()"
   ]
  },
  {
   "cell_type": "code",
   "execution_count": null,
   "id": "c84764ea",
   "metadata": {},
   "outputs": [],
   "source": []
  }
 ],
 "metadata": {
  "kernelspec": {
   "display_name": "Python 3 (ipykernel)",
   "language": "python",
   "name": "python3"
  },
  "language_info": {
   "codemirror_mode": {
    "name": "ipython",
    "version": 3
   },
   "file_extension": ".py",
   "mimetype": "text/x-python",
   "name": "python",
   "nbconvert_exporter": "python",
   "pygments_lexer": "ipython3",
   "version": "3.11.5"
  }
 },
 "nbformat": 4,
 "nbformat_minor": 5
}
